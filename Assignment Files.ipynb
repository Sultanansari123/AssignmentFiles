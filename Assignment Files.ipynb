{
 "cells": [
  {
   "cell_type": "code",
   "execution_count": 3,
   "id": "1f2f88bc-ae19-42f1-ba43-3ac9c738e429",
   "metadata": {},
   "outputs": [
    {
     "name": "stdout",
     "output_type": "stream",
     "text": [
      "my name is sultan ansari \n",
      "and who are you \n",
      "my name is jhon.\n"
     ]
    }
   ],
   "source": [
    "#Ans 1-Open method is used to open a file\n",
    "f=open(\"test.txt\",\"r\")#open  a file in read mode\n",
    "read_content=f.read()#read a file and print\n",
    "print(read_content)\n",
    "f.close()#close the file\n"
   ]
  },
  {
   "cell_type": "code",
   "execution_count": 7,
   "id": "2d31b636-423f-4fd3-8fd6-a9626a41c835",
   "metadata": {},
   "outputs": [],
   "source": [
    "with open(\"test.txt\",\"w\") as f:\n",
    "    f.write(\"python is fun------\")\n",
    "    f.write(\"pyhton is best language\")"
   ]
  },
  {
   "cell_type": "code",
   "execution_count": 8,
   "id": "4f96a93b-74de-4abd-92f7-a67e21b17112",
   "metadata": {},
   "outputs": [],
   "source": [
    "f=open(\"test.txt\",\"a\")\n",
    "f.write(\"------now the files ha more content\")\n",
    "f.close()"
   ]
  },
  {
   "cell_type": "code",
   "execution_count": 9,
   "id": "519e9238-b54e-44bb-97f7-1aa7a59eb7a8",
   "metadata": {},
   "outputs": [
    {
     "name": "stdout",
     "output_type": "stream",
     "text": [
      "python is fun------pyhton is best language------now the files ha more content\n"
     ]
    }
   ],
   "source": [
    "#open and read a file after updating\n",
    "f=open(\"test.txt\",\"r\")\n",
    "print(f.read())"
   ]
  },
  {
   "cell_type": "code",
   "execution_count": 10,
   "id": "5d8cef4b-fac7-4661-93c0-dcddac289136",
   "metadata": {},
   "outputs": [],
   "source": [
    "#Ans2-the close method of a file object flushes any unwritten information and the close the file object,after no more writting can  be done ,python automatically close a file.\n"
   ]
  },
  {
   "cell_type": "code",
   "execution_count": 11,
   "id": "721f8baa-81b8-4629-99fc-406bc658b496",
   "metadata": {},
   "outputs": [],
   "source": [
    "#Ans3-\n",
    "f=open(\"test1.txt\",\"w\")"
   ]
  },
  {
   "cell_type": "code",
   "execution_count": 13,
   "id": "dd5d7e3f-9c91-4159-a297-aab76e61dcbc",
   "metadata": {},
   "outputs": [],
   "source": [
    "f.write(\"I want to become a Data Scientist\")\n",
    "f.close()"
   ]
  },
  {
   "cell_type": "code",
   "execution_count": 14,
   "id": "176688b0-cec5-4eef-9860-b89abdb400bb",
   "metadata": {},
   "outputs": [
    {
     "name": "stdout",
     "output_type": "stream",
     "text": [
      "I want to become a Data Scientist\n"
     ]
    }
   ],
   "source": [
    "f=open(\"test1.txt\",\"r\")\n",
    "print(f.read())\n"
   ]
  },
  {
   "cell_type": "code",
   "execution_count": 17,
   "id": "96d05f41-873a-4cc9-9679-c5d428333252",
   "metadata": {},
   "outputs": [],
   "source": [
    "f=open(\"test2.txt\",\"w\")\n",
    "f.write(\"hello world the earth is a beautiful and love your nature and do not wast your time in machine olny essential work in machine and rest time enjoy your nature\")\n",
    "f.close()"
   ]
  },
  {
   "cell_type": "code",
   "execution_count": 22,
   "id": "5fdd2092-9426-484d-b629-59caae2e46b9",
   "metadata": {},
   "outputs": [
    {
     "name": "stdout",
     "output_type": "stream",
     "text": [
      "hello world\n"
     ]
    }
   ],
   "source": [
    "f=open(\"test2.txt\",\"r\")\n",
    "print(f.read(11))#read() for reading the content of the file"
   ]
  },
  {
   "cell_type": "code",
   "execution_count": 23,
   "id": "134e0806-41e4-4269-8ecc-06ffbd67102e",
   "metadata": {},
   "outputs": [
    {
     "name": "stdout",
     "output_type": "stream",
     "text": [
      " the earth is a beautiful and love your nature and do not wast your time in machine olny essential work in machine and rest time enjoy your nature\n"
     ]
    }
   ],
   "source": [
    "print(f.readline())#you can return one line"
   ]
  },
  {
   "cell_type": "code",
   "execution_count": 26,
   "id": "383839ce-9e63-4860-a679-6cdb5f79077d",
   "metadata": {},
   "outputs": [
    {
     "name": "stdout",
     "output_type": "stream",
     "text": [
      "['hello world the earth is a beautiful and love your nature and do not wast your time in machine olny essential work in machine and rest time enjoy your nature']\n"
     ]
    }
   ],
   "source": [
    "f=open(\"test2.txt\",\"r\")\n",
    "print(f.readlines())#print all the linesor read the lines\n",
    "f.close()"
   ]
  },
  {
   "cell_type": "code",
   "execution_count": 27,
   "id": "11370f0a-41c3-40b9-b72d-17429f7a378d",
   "metadata": {},
   "outputs": [],
   "source": [
    "#Ans5-using with open no need to explicitly close the opened files with stmt take care of that ,when with the block ends,it will automatically close the files."
   ]
  },
  {
   "cell_type": "code",
   "execution_count": 28,
   "id": "4d765a19-140c-4a7f-b1db-86602590f181",
   "metadata": {},
   "outputs": [
    {
     "name": "stdin",
     "output_type": "stream",
     "text": [
      "enter the name of the student sultan ansari\n",
      "enter the name of the student sultan\n",
      "enter the name of the student ansari\n"
     ]
    },
    {
     "name": "stdout",
     "output_type": "stream",
     "text": [
      "data is written into the files\n"
     ]
    }
   ],
   "source": [
    "#Ans6-write() will write the content in the file without adding any extra character \n",
    "f=open(\"test3\",\"w\")\n",
    "for i in range (3):\n",
    "    name=input(\"enter the name of the student\")\n",
    "    f.write(name)\n",
    "    f.write(\"\\n\")\n",
    "    \n",
    "f.close()\n",
    "print(\"data is written into the files\")"
   ]
  },
  {
   "cell_type": "code",
   "execution_count": 31,
   "id": "3df55267-346f-4377-a56f-475f7d12c310",
   "metadata": {},
   "outputs": [
    {
     "name": "stdin",
     "output_type": "stream",
     "text": [
      "enter the name of the student sultan jamshed jaibun\n",
      "enter the name of the student hello\n",
      "enter the name of the student ma\n"
     ]
    },
    {
     "name": "stdout",
     "output_type": "stream",
     "text": [
      "data is written into the files\n"
     ]
    }
   ],
   "source": [
    "f1=open(\"test4\",\"w\")\n",
    "l=[]\n",
    "for i in range (3):\n",
    "    name=input(\"enter the name of the student\")\n",
    "    l.append(name+\"\\n\")\n",
    "f1.writelines(\"\\n\")#wite a list of string in open file\n",
    "    \n",
    "f1.close()\n",
    "print(\"data is written into the files\")"
   ]
  },
  {
   "cell_type": "code",
   "execution_count": null,
   "id": "f8dbbb0c-4fd5-49b3-9f6b-33fcafd742aa",
   "metadata": {},
   "outputs": [],
   "source": []
  }
 ],
 "metadata": {
  "kernelspec": {
   "display_name": "Python 3 (ipykernel)",
   "language": "python",
   "name": "python3"
  },
  "language_info": {
   "codemirror_mode": {
    "name": "ipython",
    "version": 3
   },
   "file_extension": ".py",
   "mimetype": "text/x-python",
   "name": "python",
   "nbconvert_exporter": "python",
   "pygments_lexer": "ipython3",
   "version": "3.10.8"
  }
 },
 "nbformat": 4,
 "nbformat_minor": 5
}
